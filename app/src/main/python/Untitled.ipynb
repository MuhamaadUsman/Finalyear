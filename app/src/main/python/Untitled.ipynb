{
 "cells": [
  {
   "cell_type": "code",
   "execution_count": 16,
   "metadata": {},
   "outputs": [
    {
     "data": {
      "text/plain": [
       "'openschedule'"
      ]
     },
     "execution_count": 16,
     "metadata": {},
     "output_type": "execute_result"
    }
   ],
   "source": [
    "\n",
    "def Check(Command):\n",
    "    words = Command.split()\n",
    "    \n",
    "    meet = [\"do i have any meeting\", \"my today's schedule\", \"my schedule\"]\n",
    "    \n",
    "\n",
    "    if (Command == ('hi'))  or (Command==(\"hello\")):\n",
    "\n",
    "        Intent = \"greeting\"\n",
    "    elif((Command == (\"how are you\")) or (Command == (\"how you doing\")) or(Command == (\"how have you been\"))\n",
    "         or (Command == (\"what you doing\"))or(Command == (\"how do you do\"))or(Command == (\"how are you\"))\n",
    "         or(Command == (\"how you doing\"))or(Command == (\"what's cooking\"))or(Command == (\"how are things going\"))\n",
    "         or(Command == (\"how's life\"))or(Command == (\"how are things with you\"))or(Command == (\"how's life going\") )):\n",
    "        Intent = \"AskingAboutYou\"\n",
    "    elif ((Command== (\"Who are You\") ) or (Command== (\"what are you\")) or (Command == (\"what's your name\"))):\n",
    "        Intent = (\"name\")\n",
    "    elif ((Command == (\"what time is it\")) or (Command == (\"what is the time\")) or (Command == (\"Can you tell me the time \"))\n",
    "          or(Command == (\"Tell me time\")) ):\n",
    "        Intent = (\"time\")\n",
    "    elif ((\"open\" in words) and (\"or\" in words)):\n",
    "        Intent = (\"browser\")\n",
    "    elif((\"meeting\" in words) and (\"schedule\" in words)) or ((\"want\" in words) and (\"meet\" in words)) or ((\"meeting\" in words)) or ((\"meeting\" in words) and (\"with\" in words)):\n",
    "        Intent = \"meeting\"\n",
    "    elif((\"schedule\" in words) and (\"maintain\" in words ) or ((\"check\") in words and (\"schdeule\")) ):\n",
    "        Intent = \"openschedule\"\n",
    "    elif(ele for ele in meet if(ele in Command) == True):\n",
    "        Intent = \"openschedule\"\n",
    "    else:\n",
    "        Intent = \"nill\"\n",
    "    \n",
    "    return Intent\n",
    "Check(\"my schedule is\")"
   ]
  },
  {
   "cell_type": "code",
   "execution_count": null,
   "metadata": {},
   "outputs": [],
   "source": []
  }
 ],
 "metadata": {
  "kernelspec": {
   "display_name": "Python 3",
   "language": "python",
   "name": "python3"
  },
  "language_info": {
   "codemirror_mode": {
    "name": "ipython",
    "version": 3
   },
   "file_extension": ".py",
   "mimetype": "text/x-python",
   "name": "python",
   "nbconvert_exporter": "python",
   "pygments_lexer": "ipython3",
   "version": "3.7.4"
  }
 },
 "nbformat": 4,
 "nbformat_minor": 2
}
